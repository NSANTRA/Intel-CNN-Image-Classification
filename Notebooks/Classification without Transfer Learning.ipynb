{
 "cells": [
  {
   "cell_type": "code",
   "execution_count": 2,
   "id": "52f2ef71-4f75-4da5-9c2d-94a1280ca3b3",
   "metadata": {},
   "outputs": [
    {
     "name": "stdout",
     "output_type": "stream",
     "text": [
      "INFO:tensorflow:Mixed precision compatibility check (mixed_float16): OK\n",
      "Your GPU will likely run quickly with dtype policy mixed_float16 as it has compute capability of at least 7.0. Your GPU: NVIDIA GeForce RTX 4050 Laptop GPU, compute capability 8.9\n"
     ]
    }
   ],
   "source": [
    "import tensorflow as tf\n",
    "from tensorflow.keras import layers, mixed_precision\n",
    "import matplotlib.pyplot as plt\n",
    "import os"
   ]
  },
  {
   "cell_type": "code",
   "execution_count": 3,
   "id": "8eaa7b25-7c28-4eb5-ad01-aa2b323f4063",
   "metadata": {},
   "outputs": [],
   "source": [
    "def cnn(input_shape, num_classes):\n",
    "    model = tf.keras.Sequential([\n",
    "        layers.Conv2D(64, (3, 3), activation = \"relu\", padding = \"same\", input_shape = input_shape),\n",
    "        # layers.BatchNormalization(),\n",
    "        layers.Conv2D(64, (3, 3), activation = \"relu\", padding = \"same\"),\n",
    "        # layers.BatchNormalization(),\n",
    "        layers.MaxPooling2D((2, 2)),\n",
    "\n",
    "        layers.Conv2D(64, (3, 3), activation = \"relu\", padding = \"same\"),\n",
    "        # layers.BatchNormalization(),\n",
    "        layers.Conv2D(64, (3, 3), activation = \"relu\", padding = \"same\"),\n",
    "        # layers.BatchNormalization(),\n",
    "        layers.MaxPooling2D((2, 2)),\n",
    "\n",
    "        # layers.Conv2D(256, (3, 3), activation = \"relu\", padding = \"same\"),\n",
    "        # layers.BatchNormalization(),\n",
    "        # layers.Conv2D(256, (3, 3), activation = \"relu\", padding = \"same\"),\n",
    "        # layers.BatchNormalization(),\n",
    "        # layers.MaxPooling2D((2, 2)),\n",
    "\n",
    "        # layers.Conv2D(512, (3, 3), activation = \"relu\", padding = \"same\"),\n",
    "        # layers.BatchNormalization(),\n",
    "        # layers.Conv2D(512, (3, 3), activation = \"relu\", padding = \"same\"),\n",
    "        # layers.BatchNormalization(),\n",
    "        # layers.MaxPooling2D((2, 2)),\n",
    "\n",
    "        # layers.Conv2D(1024, (3, 3), activation = \"relu\", padding = \"same\"),\n",
    "        # layers.BatchNormalization(),\n",
    "        # layers.Conv2D(1024, (3, 3), activation = \"relu\", padding = \"same\"),\n",
    "        # layers.BatchNormalization(),\n",
    "        # layers.MaxPooling2D((2, 2)),\n",
    "\n",
    "        layers.Flatten(),\n",
    "        layers.Dense(64, activation = \"relu\"),\n",
    "        # layers.BatchNormalization(),\n",
    "        \n",
    "        layers.Dense(32, activation = \"relu\"),\n",
    "        # layers.BatchNormalization(),\n",
    "\n",
    "        layers.Dense(num_classes, activation = \"softmax\")\n",
    "    ])\n",
    "\n",
    "    return model"
   ]
  },
  {
   "cell_type": "code",
   "execution_count": 6,
   "id": "4582bd0b-bcb0-4252-b670-7caa9c60644f",
   "metadata": {
    "scrolled": true
   },
   "outputs": [
    {
     "name": "stdout",
     "output_type": "stream",
     "text": [
      "Found 14034 files belonging to 6 classes.\n"
     ]
    }
   ],
   "source": [
    "dir = \"Dataset/seg_train/\"\n",
    "\n",
    "batch_size = 16\n",
    "img_h, img_w = 150, 150\n",
    "\n",
    "train_dataset = tf.keras.utils.image_dataset_from_directory(dir, seed = 100, image_size = (img_h, img_w), batch_size = batch_size)"
   ]
  },
  {
   "cell_type": "code",
   "execution_count": 7,
   "id": "32453e33-5819-4fd5-bd1a-ad5606bc8f42",
   "metadata": {},
   "outputs": [],
   "source": [
    "model = cnn(input_shape = (150, 150, 3), num_classes = 6)"
   ]
  },
  {
   "cell_type": "code",
   "execution_count": 8,
   "id": "c4f2905e-2953-44a7-95b7-7ea74ffa9be6",
   "metadata": {
    "scrolled": true
   },
   "outputs": [
    {
     "name": "stdout",
     "output_type": "stream",
     "text": [
      "Model: \"sequential\"\n",
      "_________________________________________________________________\n",
      " Layer (type)                Output Shape              Param #   \n",
      "=================================================================\n",
      " conv2d (Conv2D)             (None, 150, 150, 32)      896       \n",
      "                                                                 \n",
      " max_pooling2d (MaxPooling2D  (None, 75, 75, 32)       0         \n",
      " )                                                               \n",
      "                                                                 \n",
      " conv2d_1 (Conv2D)           (None, 75, 75, 64)        18496     \n",
      "                                                                 \n",
      " max_pooling2d_1 (MaxPooling  (None, 37, 37, 64)       0         \n",
      " 2D)                                                             \n",
      "                                                                 \n",
      " flatten (Flatten)           (None, 87616)             0         \n",
      "                                                                 \n",
      " dense (Dense)               (None, 64)                5607488   \n",
      "                                                                 \n",
      " dense_1 (Dense)             (None, 6)                 390       \n",
      "                                                                 \n",
      "=================================================================\n",
      "Total params: 5,627,270\n",
      "Trainable params: 5,627,270\n",
      "Non-trainable params: 0\n",
      "_________________________________________________________________\n"
     ]
    }
   ],
   "source": [
    "model.summary()"
   ]
  },
  {
   "cell_type": "code",
   "execution_count": 12,
   "id": "0f4149f0-78b9-4bf2-8e17-e74f57146520",
   "metadata": {},
   "outputs": [],
   "source": [
    "model.compile(optimizer = \"adam\", loss = \"sparse_categorical_crossentropy\", metrics = [\"accuracy\"])"
   ]
  },
  {
   "cell_type": "code",
   "execution_count": 14,
   "id": "f30c3346-6f7f-4c52-96ef-216225734f1c",
   "metadata": {},
   "outputs": [
    {
     "data": {
      "text/plain": [
       "233"
      ]
     },
     "execution_count": 14,
     "metadata": {},
     "output_type": "execute_result"
    }
   ],
   "source": [
    "import gc\n",
    "\n",
    "# Before training, clear memory\n",
    "tf.keras.backend.clear_session()\n",
    "gc.collect()"
   ]
  },
  {
   "cell_type": "code",
   "execution_count": null,
   "id": "b5c82599-05bd-4702-aab0-9f0f841b6abd",
   "metadata": {
    "scrolled": true
   },
   "outputs": [
    {
     "name": "stdout",
     "output_type": "stream",
     "text": [
      "Epoch 1/10\n",
      "423/878 [=============>................] - ETA: 7s - loss: 24.4225 - accuracy: 0.4178"
     ]
    }
   ],
   "source": [
    "# with tf.device(\"/GPU:0\"):\n",
    "history = model.fit(train_dataset, epochs = 10)"
   ]
  },
  {
   "cell_type": "code",
   "execution_count": null,
   "id": "a73c038d-ccf1-4d5c-b670-9cfe08d89f1f",
   "metadata": {},
   "outputs": [],
   "source": []
  }
 ],
 "metadata": {
  "kernelspec": {
   "display_name": "Python [conda env:Tensorflow-GPU]",
   "language": "python",
   "name": "conda-env-Tensorflow-GPU-py"
  },
  "language_info": {
   "codemirror_mode": {
    "name": "ipython",
    "version": 3
   },
   "file_extension": ".py",
   "mimetype": "text/x-python",
   "name": "python",
   "nbconvert_exporter": "python",
   "pygments_lexer": "ipython3",
   "version": "3.10.13"
  },
  "widgets": {
   "application/vnd.jupyter.widget-state+json": {
    "state": {},
    "version_major": 2,
    "version_minor": 0
   }
  }
 },
 "nbformat": 4,
 "nbformat_minor": 5
}
